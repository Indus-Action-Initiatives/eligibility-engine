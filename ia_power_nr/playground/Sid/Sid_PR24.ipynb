{
 "cells": [
  {
   "cell_type": "code",
   "execution_count": 1,
   "id": "pharmaceutical-mention",
   "metadata": {},
   "outputs": [],
   "source": [
    "%load_ext autoreload \n",
    "%autoreload 2"
   ]
  },
  {
   "cell_type": "code",
   "execution_count": 2,
   "id": "apparent-hotel",
   "metadata": {},
   "outputs": [],
   "source": [
    "import sys"
   ]
  },
  {
   "cell_type": "code",
   "execution_count": 8,
   "id": "grateful-battery",
   "metadata": {},
   "outputs": [
    {
     "data": {
      "text/plain": [
       "['/Users/sidravi/Documents/IDInsight/IndusAction/ia_power/playground/Sid',\n",
       " '/Users/sidravi/anaconda3/envs/indus_action/lib/python38.zip',\n",
       " '/Users/sidravi/anaconda3/envs/indus_action/lib/python3.8',\n",
       " '/Users/sidravi/anaconda3/envs/indus_action/lib/python3.8/lib-dynload',\n",
       " '',\n",
       " '/Users/sidravi/anaconda3/envs/indus_action/lib/python3.8/site-packages',\n",
       " '/Users/sidravi/anaconda3/envs/indus_action/lib/python3.8/site-packages/IPython/extensions',\n",
       " '/Users/sidravi/.ipython']"
      ]
     },
     "execution_count": 8,
     "metadata": {},
     "output_type": "execute_result"
    }
   ],
   "source": [
    "sys.path"
   ]
  },
  {
   "cell_type": "code",
   "execution_count": 5,
   "id": "possible-casting",
   "metadata": {},
   "outputs": [],
   "source": [
    "%config Completer.use_jedi = False"
   ]
  },
  {
   "cell_type": "code",
   "execution_count": 6,
   "id": "utility-separation",
   "metadata": {},
   "outputs": [],
   "source": [
    "import os\n"
   ]
  },
  {
   "cell_type": "code",
   "execution_count": 7,
   "id": "exact-christopher",
   "metadata": {},
   "outputs": [],
   "source": [
    "os.chdir(\"../..\")"
   ]
  },
  {
   "cell_type": "code",
   "execution_count": 9,
   "id": "constitutional-tennis",
   "metadata": {},
   "outputs": [],
   "source": [
    "import numpy as np\n",
    "import pandas as pd"
   ]
  },
  {
   "cell_type": "code",
   "execution_count": 10,
   "id": "expired-upset",
   "metadata": {},
   "outputs": [],
   "source": [
    "import src.nodes.calculation as cl"
   ]
  },
  {
   "cell_type": "code",
   "execution_count": 11,
   "id": "considered-beverage",
   "metadata": {},
   "outputs": [],
   "source": [
    "import src.nodes.benefits as bft\n",
    "import src.nodes.beneficiary as clm\n",
    "import src.nodes.calculation as cal\n",
    "import src.nodes.checkers as chk\n",
    "from pathlib import Path"
   ]
  },
  {
   "cell_type": "code",
   "execution_count": 12,
   "id": "exotic-buffalo",
   "metadata": {},
   "outputs": [],
   "source": [
    "benefits_x_criteria = bft.load_sample_benefits_matrix(\"sample_benefits_2\")\n",
    "beneficiary_x_criteria = clm.load_sample_beneficiary_matrix(\"sample_beneficiary_2\")"
   ]
  },
  {
   "cell_type": "code",
   "execution_count": 13,
   "id": "gothic-anniversary",
   "metadata": {},
   "outputs": [
    {
     "data": {
      "text/plain": [
       "True"
      ]
     },
     "execution_count": 13,
     "metadata": {},
     "output_type": "execute_result"
    }
   ],
   "source": [
    "chk.check_matrix_sanity(benefits_x_criteria, beneficiary_x_criteria)"
   ]
  },
  {
   "cell_type": "code",
   "execution_count": 9,
   "id": "complimentary-rocket",
   "metadata": {},
   "outputs": [
    {
     "data": {
      "text/html": [
       "<div>\n",
       "<style scoped>\n",
       "    .dataframe tbody tr th:only-of-type {\n",
       "        vertical-align: middle;\n",
       "    }\n",
       "\n",
       "    .dataframe tbody tr th {\n",
       "        vertical-align: top;\n",
       "    }\n",
       "\n",
       "    .dataframe thead th {\n",
       "        text-align: right;\n",
       "    }\n",
       "</style>\n",
       "<table border=\"1\" class=\"dataframe\">\n",
       "  <thead>\n",
       "    <tr style=\"text-align: right;\">\n",
       "      <th></th>\n",
       "      <th>criteria1</th>\n",
       "      <th>criteria2</th>\n",
       "      <th>criteria3</th>\n",
       "      <th>criteria4</th>\n",
       "      <th>criteria5</th>\n",
       "    </tr>\n",
       "    <tr>\n",
       "      <th>benefit_name</th>\n",
       "      <th></th>\n",
       "      <th></th>\n",
       "      <th></th>\n",
       "      <th></th>\n",
       "      <th></th>\n",
       "    </tr>\n",
       "  </thead>\n",
       "  <tbody>\n",
       "    <tr>\n",
       "      <th>ABC</th>\n",
       "      <td>1</td>\n",
       "      <td>1</td>\n",
       "      <td>1</td>\n",
       "      <td>1</td>\n",
       "      <td>0</td>\n",
       "    </tr>\n",
       "    <tr>\n",
       "      <th>XYZ</th>\n",
       "      <td>0</td>\n",
       "      <td>0</td>\n",
       "      <td>1</td>\n",
       "      <td>1</td>\n",
       "      <td>1</td>\n",
       "    </tr>\n",
       "  </tbody>\n",
       "</table>\n",
       "</div>"
      ],
      "text/plain": [
       "              criteria1  criteria2  criteria3  criteria4  criteria5\n",
       "benefit_name                                                       \n",
       "ABC                   1          1          1          1          0\n",
       "XYZ                   0          0          1          1          1"
      ]
     },
     "execution_count": 9,
     "metadata": {},
     "output_type": "execute_result"
    }
   ],
   "source": [
    "benefits_x_criteria"
   ]
  },
  {
   "cell_type": "code",
   "execution_count": 10,
   "id": "hindu-substance",
   "metadata": {},
   "outputs": [
    {
     "data": {
      "text/html": [
       "<div>\n",
       "<style scoped>\n",
       "    .dataframe tbody tr th:only-of-type {\n",
       "        vertical-align: middle;\n",
       "    }\n",
       "\n",
       "    .dataframe tbody tr th {\n",
       "        vertical-align: top;\n",
       "    }\n",
       "\n",
       "    .dataframe thead th {\n",
       "        text-align: right;\n",
       "    }\n",
       "</style>\n",
       "<table border=\"1\" class=\"dataframe\">\n",
       "  <thead>\n",
       "    <tr style=\"text-align: right;\">\n",
       "      <th></th>\n",
       "      <th>criteria1</th>\n",
       "      <th>criteria2</th>\n",
       "      <th>criteria3</th>\n",
       "      <th>criteria4</th>\n",
       "      <th>criteria5</th>\n",
       "    </tr>\n",
       "    <tr>\n",
       "      <th>beneficiary_name</th>\n",
       "      <th></th>\n",
       "      <th></th>\n",
       "      <th></th>\n",
       "      <th></th>\n",
       "      <th></th>\n",
       "    </tr>\n",
       "  </thead>\n",
       "  <tbody>\n",
       "    <tr>\n",
       "      <th>Sid</th>\n",
       "      <td>1.0</td>\n",
       "      <td>NaN</td>\n",
       "      <td>1</td>\n",
       "      <td>0</td>\n",
       "      <td>0.0</td>\n",
       "    </tr>\n",
       "    <tr>\n",
       "      <th>Tanmay</th>\n",
       "      <td>1.0</td>\n",
       "      <td>0.0</td>\n",
       "      <td>1</td>\n",
       "      <td>1</td>\n",
       "      <td>1.0</td>\n",
       "    </tr>\n",
       "    <tr>\n",
       "      <th>Victor</th>\n",
       "      <td>1.0</td>\n",
       "      <td>1.0</td>\n",
       "      <td>1</td>\n",
       "      <td>1</td>\n",
       "      <td>NaN</td>\n",
       "    </tr>\n",
       "    <tr>\n",
       "      <th>Shreya</th>\n",
       "      <td>NaN</td>\n",
       "      <td>1.0</td>\n",
       "      <td>1</td>\n",
       "      <td>1</td>\n",
       "      <td>1.0</td>\n",
       "    </tr>\n",
       "  </tbody>\n",
       "</table>\n",
       "</div>"
      ],
      "text/plain": [
       "                  criteria1  criteria2  criteria3  criteria4  criteria5\n",
       "beneficiary_name                                                       \n",
       "Sid                     1.0        NaN          1          0        0.0\n",
       "Tanmay                  1.0        0.0          1          1        1.0\n",
       "Victor                  1.0        1.0          1          1        NaN\n",
       "Shreya                  NaN        1.0          1          1        1.0"
      ]
     },
     "execution_count": 10,
     "metadata": {},
     "output_type": "execute_result"
    }
   ],
   "source": [
    "beneficiary_x_criteria"
   ]
  },
  {
   "cell_type": "code",
   "execution_count": 16,
   "id": "premier-magazine",
   "metadata": {},
   "outputs": [
    {
     "data": {
      "text/html": [
       "<div>\n",
       "<style scoped>\n",
       "    .dataframe tbody tr th:only-of-type {\n",
       "        vertical-align: middle;\n",
       "    }\n",
       "\n",
       "    .dataframe tbody tr th {\n",
       "        vertical-align: top;\n",
       "    }\n",
       "\n",
       "    .dataframe thead th {\n",
       "        text-align: right;\n",
       "    }\n",
       "</style>\n",
       "<table border=\"1\" class=\"dataframe\">\n",
       "  <thead>\n",
       "    <tr style=\"text-align: right;\">\n",
       "      <th></th>\n",
       "      <th>0</th>\n",
       "    </tr>\n",
       "  </thead>\n",
       "  <tbody>\n",
       "    <tr>\n",
       "      <th>0</th>\n",
       "      <td>0.0</td>\n",
       "    </tr>\n",
       "  </tbody>\n",
       "</table>\n",
       "</div>"
      ],
      "text/plain": [
       "     0\n",
       "0  0.0"
      ]
     },
     "execution_count": 16,
     "metadata": {},
     "output_type": "execute_result"
    }
   ],
   "source": [
    "cal.get_clamped_score(pd.DataFrame([[1, 0]]), pd.DataFrame([[np.nan, 1]]))"
   ]
  },
  {
   "cell_type": "code",
   "execution_count": 12,
   "id": "fresh-headset",
   "metadata": {},
   "outputs": [],
   "source": [
    "X = np.array(benefits_x_criteria)\n",
    "Y = np.array(beneficiary_x_criteria)\n",
    "\n",
    "Y_nan_mask = Y"
   ]
  },
  {
   "cell_type": "code",
   "execution_count": 35,
   "id": "durable-deployment",
   "metadata": {},
   "outputs": [
    {
     "data": {
      "text/plain": [
       "array([1, 1, 1, 1, 0])"
      ]
     },
     "execution_count": 35,
     "metadata": {},
     "output_type": "execute_result"
    }
   ],
   "source": [
    "X[0]"
   ]
  },
  {
   "cell_type": "code",
   "execution_count": 36,
   "id": "alien-pasta",
   "metadata": {},
   "outputs": [
    {
     "data": {
      "text/plain": [
       "array([ 1., nan,  1.,  0.,  0.])"
      ]
     },
     "execution_count": 36,
     "metadata": {},
     "output_type": "execute_result"
    }
   ],
   "source": [
    "Y[0]"
   ]
  },
  {
   "cell_type": "code",
   "execution_count": 55,
   "id": "according-museum",
   "metadata": {},
   "outputs": [
    {
     "data": {
      "text/plain": [
       "False"
      ]
     },
     "execution_count": 55,
     "metadata": {},
     "output_type": "execute_result"
    }
   ],
   "source": [
    "is_nan = np.isnan(Y[0])\n",
    "rules = np.logical_not(np.logical_xor(X[0][~is_nan], Y[0][~is_nan])).all()\n",
    "rules"
   ]
  },
  {
   "cell_type": "code",
   "execution_count": 61,
   "id": "sought-vision",
   "metadata": {},
   "outputs": [
    {
     "data": {
      "text/plain": [
       "0.75"
      ]
     },
     "execution_count": 61,
     "metadata": {},
     "output_type": "execute_result"
    }
   ],
   "source": [
    "score = 1 - (np.isnan(Y[0]) & X[0]).sum() / np.sum(X[0])\n",
    "score"
   ]
  },
  {
   "cell_type": "code",
   "execution_count": 63,
   "id": "signed-monte",
   "metadata": {},
   "outputs": [
    {
     "data": {
      "text/plain": [
       "array([[1, 1, 1, 1, 0],\n",
       "       [0, 0, 1, 1, 1]])"
      ]
     },
     "execution_count": 63,
     "metadata": {},
     "output_type": "execute_result"
    }
   ],
   "source": [
    "X"
   ]
  },
  {
   "cell_type": "code",
   "execution_count": 64,
   "id": "atmospheric-belief",
   "metadata": {},
   "outputs": [
    {
     "data": {
      "text/plain": [
       "array([[ 1., nan,  1.,  0.,  0.],\n",
       "       [ 1.,  0.,  1.,  1.,  1.],\n",
       "       [ 1.,  1.,  1.,  1., nan],\n",
       "       [nan,  1.,  1.,  1.,  1.]])"
      ]
     },
     "execution_count": 64,
     "metadata": {},
     "output_type": "execute_result"
    }
   ],
   "source": [
    "Y"
   ]
  },
  {
   "cell_type": "code",
   "execution_count": 86,
   "id": "instructional-model",
   "metadata": {},
   "outputs": [],
   "source": [
    "from itertools import product"
   ]
  },
  {
   "cell_type": "code",
   "execution_count": 107,
   "id": "hybrid-vietnamese",
   "metadata": {},
   "outputs": [
    {
     "data": {
      "text/plain": [
       "array([1., 1., 0., 1.])"
      ]
     },
     "execution_count": 107,
     "metadata": {},
     "output_type": "execute_result"
    }
   ],
   "source": [
    "np.where(x[~is_nan], y[~is_nan], 1)"
   ]
  },
  {
   "cell_type": "code",
   "execution_count": 108,
   "id": "weighted-birth",
   "metadata": {},
   "outputs": [
    {
     "data": {
      "text/plain": [
       "array([1, 1, 1, 1, 0])"
      ]
     },
     "execution_count": 108,
     "metadata": {},
     "output_type": "execute_result"
    }
   ],
   "source": [
    "x"
   ]
  },
  {
   "cell_type": "code",
   "execution_count": 109,
   "id": "signed-impact",
   "metadata": {},
   "outputs": [
    {
     "data": {
      "text/plain": [
       "array([ 1., nan,  1.,  0.,  0.])"
      ]
     },
     "execution_count": 109,
     "metadata": {},
     "output_type": "execute_result"
    }
   ],
   "source": [
    "y"
   ]
  },
  {
   "cell_type": "code",
   "execution_count": 110,
   "id": "hollywood-tourist",
   "metadata": {},
   "outputs": [
    {
     "data": {
      "text/plain": [
       "array([ True, False,  True,  True,  True])"
      ]
     },
     "execution_count": 110,
     "metadata": {},
     "output_type": "execute_result"
    }
   ],
   "source": [
    "~is_nan"
   ]
  },
  {
   "cell_type": "code",
   "execution_count": null,
   "id": "technological-basics",
   "metadata": {},
   "outputs": [],
   "source": []
  },
  {
   "cell_type": "code",
   "execution_count": 114,
   "id": "junior-listening",
   "metadata": {},
   "outputs": [
    {
     "name": "stdout",
     "output_type": "stream",
     "text": [
      "[1 1 1 1 0] [ 1. nan  1.  0.  0.]\n",
      "[1. 1. 0. 1.]\n",
      "0\n",
      "-------\n",
      "[0 0 1 1 1] [ 1. nan  1.  0.  0.]\n",
      "[1. 1. 0. 0.]\n",
      "0\n",
      "-------\n",
      "[1 1 1 1 0] [1. 0. 1. 1. 1.]\n",
      "[1. 0. 1. 1. 1.]\n",
      "0\n",
      "-------\n",
      "[0 0 1 1 1] [1. 0. 1. 1. 1.]\n",
      "[1. 1. 1. 1. 1.]\n",
      "1.0\n",
      "-------\n",
      "[1 1 1 1 0] [ 1.  1.  1.  1. nan]\n",
      "[1. 1. 1. 1.]\n",
      "1.0\n",
      "-------\n",
      "[0 0 1 1 1] [ 1.  1.  1.  1. nan]\n",
      "[1. 1. 1. 1.]\n",
      "0.6666666666666667\n",
      "-------\n",
      "[1 1 1 1 0] [nan  1.  1.  1.  1.]\n",
      "[1. 1. 1. 1.]\n",
      "0.75\n",
      "-------\n",
      "[0 0 1 1 1] [nan  1.  1.  1.  1.]\n",
      "[1. 1. 1. 1.]\n",
      "1.0\n",
      "-------\n"
     ]
    }
   ],
   "source": [
    "outcome = np.zeros((len(Y), len(X)))\n",
    "for (i, j) in product(range(len(Y)), range(len(X))):\n",
    "\n",
    "    y = Y[i]\n",
    "    x = X[j]\n",
    "    \n",
    "    is_nan = np.isnan(y)\n",
    "    rules = np.where(x[~is_nan], y[~is_nan], 1)\n",
    "    if rules.all():\n",
    "        score = 1 - (np.isnan(y) & x).sum() / np.sum(x)\n",
    "    else:\n",
    "        score = 0\n",
    "    outcome[i, j] = score\n"
   ]
  },
  {
   "cell_type": "code",
   "execution_count": 79,
   "id": "protecting-kelly",
   "metadata": {},
   "outputs": [
    {
     "ename": "ValueError",
     "evalue": "not enough values to unpack (expected 2, got 1)",
     "output_type": "error",
     "traceback": [
      "\u001b[0;31m---------------------------------------------------------------------------\u001b[0m",
      "\u001b[0;31mValueError\u001b[0m                                Traceback (most recent call last)",
      "\u001b[0;32m<ipython-input-79-1a5b1ae42dd7>\u001b[0m in \u001b[0;36m<module>\u001b[0;34m\u001b[0m\n\u001b[0;32m----> 1\u001b[0;31m \u001b[0;32mfor\u001b[0m \u001b[0mx\u001b[0m\u001b[0;34m,\u001b[0m\u001b[0my\u001b[0m \u001b[0;32min\u001b[0m \u001b[0mzip\u001b[0m\u001b[0;34m(\u001b[0m\u001b[0mnp\u001b[0m\u001b[0;34m.\u001b[0m\u001b[0mmeshgrid\u001b[0m\u001b[0;34m(\u001b[0m\u001b[0mX\u001b[0m\u001b[0;34m,\u001b[0m \u001b[0mY\u001b[0m\u001b[0;34m)\u001b[0m\u001b[0;34m)\u001b[0m\u001b[0;34m:\u001b[0m\u001b[0;34m\u001b[0m\u001b[0;34m\u001b[0m\u001b[0m\n\u001b[0m\u001b[1;32m      2\u001b[0m     \u001b[0mprint\u001b[0m\u001b[0;34m(\u001b[0m\u001b[0mx\u001b[0m\u001b[0;34m)\u001b[0m\u001b[0;34m\u001b[0m\u001b[0;34m\u001b[0m\u001b[0m\n\u001b[1;32m      3\u001b[0m     \u001b[0mprint\u001b[0m\u001b[0;34m(\u001b[0m\u001b[0;34m\"-----\"\u001b[0m\u001b[0;34m)\u001b[0m\u001b[0;34m\u001b[0m\u001b[0;34m\u001b[0m\u001b[0m\n",
      "\u001b[0;31mValueError\u001b[0m: not enough values to unpack (expected 2, got 1)"
     ]
    }
   ],
   "source": [
    "for x,y in zip(np.meshgrid(X, Y)):\n",
    "    print(x)\n",
    "    print(\"-----\")"
   ]
  },
  {
   "cell_type": "code",
   "execution_count": null,
   "id": "subtle-accuracy",
   "metadata": {},
   "outputs": [],
   "source": []
  }
 ],
 "metadata": {
  "kernelspec": {
   "display_name": "Python 3",
   "language": "python",
   "name": "python3"
  },
  "language_info": {
   "codemirror_mode": {
    "name": "ipython",
    "version": 3
   },
   "file_extension": ".py",
   "mimetype": "text/x-python",
   "name": "python",
   "nbconvert_exporter": "python",
   "pygments_lexer": "ipython3",
   "version": "3.8.0"
  }
 },
 "nbformat": 4,
 "nbformat_minor": 5
}
