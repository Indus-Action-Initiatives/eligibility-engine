{
 "cells": [
  {
   "cell_type": "code",
   "execution_count": 1,
   "id": "adapted-applicant",
   "metadata": {},
   "outputs": [],
   "source": [
    "%load_ext autoreload\n",
    "%autoreload 2"
   ]
  },
  {
   "cell_type": "code",
   "execution_count": 2,
   "id": "failing-wheel",
   "metadata": {},
   "outputs": [],
   "source": [
    "import os\n",
    "os.chdir(\"/Users/sidravi/Documents/IDInsight/IndusAction/ia_power\")"
   ]
  },
  {
   "cell_type": "code",
   "execution_count": 3,
   "id": "written-accused",
   "metadata": {},
   "outputs": [],
   "source": [
    "import pystan\n",
    "import numpy as np\n",
    "import pandas as pd\n",
    "import matplotlib.pyplot as plt\n",
    "import seaborn as sns\n",
    "from src.nodes.imputation import *\n",
    "import src.utils as utl\n",
    "import arviz as az\n",
    "\n",
    "import seaborn as sns"
   ]
  },
  {
   "cell_type": "code",
   "execution_count": 4,
   "id": "found-nothing",
   "metadata": {},
   "outputs": [],
   "source": [
    "%config Completer.use_jedi = False"
   ]
  },
  {
   "cell_type": "code",
   "execution_count": 5,
   "id": "behavioral-pioneer",
   "metadata": {},
   "outputs": [],
   "source": [
    "import multiprocessing\n",
    "multiprocessing.set_start_method(\"fork\")"
   ]
  },
  {
   "cell_type": "markdown",
   "id": "asian-yugoslavia",
   "metadata": {},
   "source": [
    "## Generate some data\n",
    "\n",
    "$$ \n",
    "Y = Z W' + \\epsilon \\\\\n",
    "\\epsilon \\sim N(0, 0.2)\n",
    "$$"
   ]
  },
  {
   "cell_type": "code",
   "execution_count": 6,
   "id": "smaller-taste",
   "metadata": {},
   "outputs": [],
   "source": [
    "W = np.array([[100, 20],\n",
    "               [15, 2],\n",
    "               [2, 1]]) # n_demographics x n_features"
   ]
  },
  {
   "cell_type": "code",
   "execution_count": 7,
   "id": "level-edwards",
   "metadata": {},
   "outputs": [],
   "source": [
    "Z = np.array([[1, 5],\n",
    "               [3, 2],\n",
    "               [2, 2],\n",
    "               [3, 1],\n",
    "               [4, 2],\n",
    "               [2, 3],\n",
    "               [1, 1],\n",
    "               [4, 4],\n",
    "               [0, 1]]) # n_beneficiaries x n_features"
   ]
  },
  {
   "cell_type": "code",
   "execution_count": 8,
   "id": "returning-breathing",
   "metadata": {},
   "outputs": [],
   "source": [
    "demo_value = np.random.normal(Z @ W.T, 0.2)"
   ]
  },
  {
   "cell_type": "code",
   "execution_count": 9,
   "id": "advised-sarah",
   "metadata": {},
   "outputs": [
    {
     "data": {
      "text/html": [
       "<div>\n",
       "<style scoped>\n",
       "    .dataframe tbody tr th:only-of-type {\n",
       "        vertical-align: middle;\n",
       "    }\n",
       "\n",
       "    .dataframe tbody tr th {\n",
       "        vertical-align: top;\n",
       "    }\n",
       "\n",
       "    .dataframe thead th {\n",
       "        text-align: right;\n",
       "    }\n",
       "</style>\n",
       "<table border=\"1\" class=\"dataframe\">\n",
       "  <thead>\n",
       "    <tr style=\"text-align: right;\">\n",
       "      <th></th>\n",
       "      <th>c0</th>\n",
       "      <th>c1</th>\n",
       "      <th>c2</th>\n",
       "    </tr>\n",
       "    <tr>\n",
       "      <th>beneficiaries</th>\n",
       "      <th></th>\n",
       "      <th></th>\n",
       "      <th></th>\n",
       "    </tr>\n",
       "  </thead>\n",
       "  <tbody>\n",
       "    <tr>\n",
       "      <th>b_0</th>\n",
       "      <td>199.880110</td>\n",
       "      <td>24.816602</td>\n",
       "      <td>7.316327</td>\n",
       "    </tr>\n",
       "    <tr>\n",
       "      <th>b_1</th>\n",
       "      <td>339.992869</td>\n",
       "      <td>49.022033</td>\n",
       "      <td>7.983792</td>\n",
       "    </tr>\n",
       "    <tr>\n",
       "      <th>b_2</th>\n",
       "      <td>240.108822</td>\n",
       "      <td>33.832292</td>\n",
       "      <td>5.989315</td>\n",
       "    </tr>\n",
       "    <tr>\n",
       "      <th>b_3</th>\n",
       "      <td>319.928045</td>\n",
       "      <td>46.796998</td>\n",
       "      <td>7.063869</td>\n",
       "    </tr>\n",
       "    <tr>\n",
       "      <th>b_4</th>\n",
       "      <td>439.902101</td>\n",
       "      <td>64.035031</td>\n",
       "      <td>9.863494</td>\n",
       "    </tr>\n",
       "    <tr>\n",
       "      <th>b_5</th>\n",
       "      <td>260.186264</td>\n",
       "      <td>35.808079</td>\n",
       "      <td>6.897217</td>\n",
       "    </tr>\n",
       "    <tr>\n",
       "      <th>b_6</th>\n",
       "      <td>120.033886</td>\n",
       "      <td>17.100802</td>\n",
       "      <td>2.769395</td>\n",
       "    </tr>\n",
       "    <tr>\n",
       "      <th>b_7</th>\n",
       "      <td>479.816152</td>\n",
       "      <td>68.249001</td>\n",
       "      <td>11.817535</td>\n",
       "    </tr>\n",
       "    <tr>\n",
       "      <th>b_8</th>\n",
       "      <td>20.041142</td>\n",
       "      <td>2.317522</td>\n",
       "      <td>1.694963</td>\n",
       "    </tr>\n",
       "  </tbody>\n",
       "</table>\n",
       "</div>"
      ],
      "text/plain": [
       "                       c0         c1         c2\n",
       "beneficiaries                                  \n",
       "b_0            199.880110  24.816602   7.316327\n",
       "b_1            339.992869  49.022033   7.983792\n",
       "b_2            240.108822  33.832292   5.989315\n",
       "b_3            319.928045  46.796998   7.063869\n",
       "b_4            439.902101  64.035031   9.863494\n",
       "b_5            260.186264  35.808079   6.897217\n",
       "b_6            120.033886  17.100802   2.769395\n",
       "b_7            479.816152  68.249001  11.817535\n",
       "b_8             20.041142   2.317522   1.694963"
      ]
     },
     "execution_count": 9,
     "metadata": {},
     "output_type": "execute_result"
    }
   ],
   "source": [
    "df = pd.DataFrame(demo_value, \n",
    "                  index = pd.Series([f'b_{x}' for x in np.arange(demo_value.shape[0])], name='beneficiaries'),\n",
    "                  columns=['c0', 'c1', 'c2'])\n",
    "#df = df.melt(ignore_index=False, var_name = 'demog', value_name = 'demo_value').reset_index()\n",
    "#df.index.name = \"hello\"\n",
    "#df.columns.to_list()\n",
    "df"
   ]
  },
  {
   "cell_type": "markdown",
   "id": "cardiovascular-administrator",
   "metadata": {},
   "source": [
    "## Set some to null\n",
    "We'll try to impute these"
   ]
  },
  {
   "cell_type": "code",
   "execution_count": 10,
   "id": "simplified-notebook",
   "metadata": {},
   "outputs": [],
   "source": [
    "index_to_null = [('b_0', 'c0'), ('b_1', 'c0'), ('b_2', 'c2'), ('b_3', 'c2'), ('b_6', 'c1')]\n",
    "df_nulled = df.copy()\n",
    "for row, col in index_to_null:\n",
    "    df_nulled.loc[row, col] = np.nan"
   ]
  },
  {
   "cell_type": "markdown",
   "id": "acting-hostel",
   "metadata": {},
   "source": [
    "## Run stan model"
   ]
  },
  {
   "cell_type": "code",
   "execution_count": 11,
   "id": "active-morocco",
   "metadata": {},
   "outputs": [],
   "source": [
    "stan_code = utl.load_params_file('stan_code_mc')\n",
    "mc_params = utl.load_params_file('bayesian_mc_params')"
   ]
  },
  {
   "cell_type": "code",
   "execution_count": 13,
   "id": "portable-response",
   "metadata": {},
   "outputs": [
    {
     "name": "stderr",
     "output_type": "stream",
     "text": [
      "INFO:pystan:COMPILING THE C++ CODE FOR MODEL anon_model_3391bc7a0790d8690bad0b444d48369b NOW.\n"
     ]
    }
   ],
   "source": [
    "bmc = BayesianMatrixCompletion(stan_code, False, True)"
   ]
  },
  {
   "cell_type": "code",
   "execution_count": 15,
   "id": "electoral-moscow",
   "metadata": {},
   "outputs": [
    {
     "data": {
      "text/plain": [
       "<src.nodes.imputation.bayesian_matrix_completion.BayesianMatrixCompletion at 0x7fbc76cf86a0>"
      ]
     },
     "execution_count": 15,
     "metadata": {},
     "output_type": "execute_result"
    }
   ],
   "source": [
    "bmc.fit(df_nulled, 2)"
   ]
  },
  {
   "cell_type": "code",
   "execution_count": 17,
   "id": "incident-encounter",
   "metadata": {},
   "outputs": [
    {
     "data": {
      "text/plain": [
       "True"
      ]
     },
     "execution_count": 17,
     "metadata": {},
     "output_type": "execute_result"
    }
   ],
   "source": [
    "bmc.fitted"
   ]
  },
  {
   "cell_type": "code",
   "execution_count": 22,
   "id": "olive-service",
   "metadata": {},
   "outputs": [
    {
     "data": {
      "text/plain": [
       "BayesianMatrixCompletion(latent_features: 2, fitted: True)"
      ]
     },
     "execution_count": 22,
     "metadata": {},
     "output_type": "execute_result"
    }
   ],
   "source": [
    "bmc"
   ]
  },
  {
   "cell_type": "code",
   "execution_count": 18,
   "id": "acute-proxy",
   "metadata": {},
   "outputs": [],
   "source": [
    "samples = bmc.sample(2200, mc_params)"
   ]
  },
  {
   "cell_type": "code",
   "execution_count": 19,
   "id": "fundamental-sierra",
   "metadata": {},
   "outputs": [
    {
     "data": {
      "text/html": [
       "<div>\n",
       "<style scoped>\n",
       "    .dataframe tbody tr th:only-of-type {\n",
       "        vertical-align: middle;\n",
       "    }\n",
       "\n",
       "    .dataframe tbody tr th {\n",
       "        vertical-align: top;\n",
       "    }\n",
       "\n",
       "    .dataframe thead th {\n",
       "        text-align: right;\n",
       "    }\n",
       "</style>\n",
       "<table border=\"1\" class=\"dataframe\">\n",
       "  <thead>\n",
       "    <tr style=\"text-align: right;\">\n",
       "      <th></th>\n",
       "      <th>c0</th>\n",
       "      <th>c1</th>\n",
       "      <th>c2</th>\n",
       "    </tr>\n",
       "  </thead>\n",
       "  <tbody>\n",
       "    <tr>\n",
       "      <th>b_0</th>\n",
       "      <td>294.592279</td>\n",
       "      <td>36.192421</td>\n",
       "      <td>7.594721</td>\n",
       "    </tr>\n",
       "    <tr>\n",
       "      <th>b_1</th>\n",
       "      <td>279.151508</td>\n",
       "      <td>37.160600</td>\n",
       "      <td>7.769785</td>\n",
       "    </tr>\n",
       "    <tr>\n",
       "      <th>b_2</th>\n",
       "      <td>243.673396</td>\n",
       "      <td>31.016587</td>\n",
       "      <td>6.498018</td>\n",
       "    </tr>\n",
       "    <tr>\n",
       "      <th>b_3</th>\n",
       "      <td>260.522787</td>\n",
       "      <td>50.553507</td>\n",
       "      <td>10.426387</td>\n",
       "    </tr>\n",
       "    <tr>\n",
       "      <th>b_4</th>\n",
       "      <td>500.550021</td>\n",
       "      <td>57.896913</td>\n",
       "      <td>12.184548</td>\n",
       "    </tr>\n",
       "    <tr>\n",
       "      <th>b_5</th>\n",
       "      <td>193.424409</td>\n",
       "      <td>33.875505</td>\n",
       "      <td>7.009353</td>\n",
       "    </tr>\n",
       "    <tr>\n",
       "      <th>b_6</th>\n",
       "      <td>139.033671</td>\n",
       "      <td>30.183273</td>\n",
       "      <td>6.205239</td>\n",
       "    </tr>\n",
       "    <tr>\n",
       "      <th>b_7</th>\n",
       "      <td>331.226392</td>\n",
       "      <td>56.262912</td>\n",
       "      <td>11.653662</td>\n",
       "    </tr>\n",
       "    <tr>\n",
       "      <th>b_8</th>\n",
       "      <td>109.370160</td>\n",
       "      <td>17.546069</td>\n",
       "      <td>3.641613</td>\n",
       "    </tr>\n",
       "  </tbody>\n",
       "</table>\n",
       "</div>"
      ],
      "text/plain": [
       "             c0         c1         c2\n",
       "b_0  294.592279  36.192421   7.594721\n",
       "b_1  279.151508  37.160600   7.769785\n",
       "b_2  243.673396  31.016587   6.498018\n",
       "b_3  260.522787  50.553507  10.426387\n",
       "b_4  500.550021  57.896913  12.184548\n",
       "b_5  193.424409  33.875505   7.009353\n",
       "b_6  139.033671  30.183273   6.205239\n",
       "b_7  331.226392  56.262912  11.653662\n",
       "b_8  109.370160  17.546069   3.641613"
      ]
     },
     "execution_count": 19,
     "metadata": {},
     "output_type": "execute_result"
    }
   ],
   "source": [
    "samples[1]"
   ]
  },
  {
   "cell_type": "markdown",
   "id": "developmental-stream",
   "metadata": {},
   "source": [
    "## How did we do?"
   ]
  },
  {
   "cell_type": "code",
   "execution_count": 20,
   "id": "lightweight-attraction",
   "metadata": {},
   "outputs": [
    {
     "data": {
      "image/png": "[encoded data removed]",
      "text/plain": [
       "<Figure size 720x504 with 5 Axes>"
      ]
     },
     "metadata": {
      "needs_background": "light"
     },
     "output_type": "display_data"
    }
   ],
   "source": [
    "f, axes = plt.subplots(2, 3, figsize = (10, 7), sharey=True)\n",
    "for ax, (row, col) in zip(axes.ravel(), index_to_null):\n",
    "    trace_values = []\n",
    "    for mat in samples:\n",
    "        trace_values.append(mat.loc[row, col])\n",
    "    sns.histplot(trace_values, ax=ax, element='poly', )\n",
    "    ax.axvline(df.loc[row, col], color='r')\n",
    "    ax.yaxis.set_visible(False)\n",
    "    sns.despine(left=True, ax=ax)\n",
    "    ax.set_title(f\"({row}, {col})\")\n",
    "plt.tight_layout()\n",
    "axes[1, 2].remove()"
   ]
  }
 ],
 "metadata": {
  "kernelspec": {
   "display_name": "Python 3",
   "language": "python",
   "name": "python3"
  },
  "language_info": {
   "codemirror_mode": {
    "name": "ipython",
    "version": 3
   },
   "file_extension": ".py",
   "mimetype": "text/x-python",
   "name": "python",
   "nbconvert_exporter": "python",
   "pygments_lexer": "ipython3",
   "version": "3.8.0"
  }
 },
 "nbformat": 4,
 "nbformat_minor": 5
}
